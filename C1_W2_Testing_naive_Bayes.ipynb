{
 "cells": [
  {
   "cell_type": "markdown",
   "id": "a4fa2e69-e44c-4216-a958-b9f173b4b640",
   "metadata": {},
   "source": [
    "# Testing naïve Bayes\n"
   ]
  },
  {
   "cell_type": "markdown",
   "id": "a6275577-9bbb-4fba-8a37-1cec9054ceb6",
   "metadata": {},
   "source": [
    "## Sentiment Analysis with Log-Likelihood\n",
    "\n",
    "- **Log-likelihood dictionary**:  \n",
    "  $$\n",
    "  \\lambda(w) = \\log \\frac{P(w \\mid pos)}{P(w \\mid neg)}\n",
    "  $$\n",
    "\n",
    "- **Logprior**:  \n",
    "  $$\n",
    "  \\text{logprior} = \\log \\frac{D_{pos}}{D_{neg}} = 0\n",
    "  $$\n",
    "\n",
    "- **Tweet**:  \n",
    "  $$\n",
    "  [\\text{\"I\"}, \\text{\"pass\"}, \\text{\"the\"}, \\text{\"NLP\"}, \\text{\"interview\"}]\n",
    "  $$\n",
    "\n",
    "- **Calculation of the score**:\n",
    "  $$\n",
    "  \\text{score} = -0.01 + 0.5 - 0.01 + 0 + \\text{logprior} = 0.48\n",
    "  $$\n",
    "\n",
    "- **Prediction**:  \n",
    "  $$\n",
    "  \\text{pred} = \\text{score} > 0\n",
    "  $$\n",
    "\n",
    "---\n",
    "\n",
    "\n"
   ]
  },
  {
   "cell_type": "markdown",
   "id": "9f615cc0-d495-43a2-a870-96c4b150ac8f",
   "metadata": {},
   "source": [
    "## Log-Likelihood Table\n",
    "\n",
    "| Word      | \\(\\lambda\\) |\n",
    "|-----------|-------------|\n",
    "| I         | -0.01       |\n",
    "| the       | -0.01       |\n",
    "| happi     | 0.63        |\n",
    "| because   | 0.01        |\n",
    "| pass      | 0.5         |\n",
    "| NLP       | 0           |\n",
    "| sad       | -0.75       |\n",
    "| not       | -0.75       |"
   ]
  },
  {
   "cell_type": "markdown",
   "id": "7957bc81-775a-4057-aa7b-1a25f4f651a9",
   "metadata": {},
   "source": [
    "The example above shows how you can make a prediction given your $\\lambda$ dictionary. In this example the \n",
    "$text{logprior}$ is 0 because we have the same amount of positive and negative documents (i.e. $\\log(1)=0$). "
   ]
  },
  {
   "cell_type": "code",
   "execution_count": null,
   "id": "cd742d26-c5ff-41ff-a512-65cfffe32d82",
   "metadata": {},
   "outputs": [],
   "source": []
  }
 ],
 "metadata": {
  "kernelspec": {
   "display_name": "Python 3 (ipykernel)",
   "language": "python",
   "name": "python3"
  },
  "language_info": {
   "codemirror_mode": {
    "name": "ipython",
    "version": 3
   },
   "file_extension": ".py",
   "mimetype": "text/x-python",
   "name": "python",
   "nbconvert_exporter": "python",
   "pygments_lexer": "ipython3",
   "version": "3.12.5"
  }
 },
 "nbformat": 4,
 "nbformat_minor": 5
}
